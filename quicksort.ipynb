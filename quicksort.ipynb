{
  "nbformat": 4,
  "nbformat_minor": 0,
  "metadata": {
    "colab": {
      "name": "quicksort.ipynb",
      "provenance": [],
      "collapsed_sections": [],
      "authorship_tag": "ABX9TyNGWxv+cgbNGtYOOJYEGSyj",
      "include_colab_link": true
    },
    "kernelspec": {
      "name": "python3",
      "display_name": "Python 3"
    }
  },
  "cells": [
    {
      "cell_type": "markdown",
      "metadata": {
        "id": "view-in-github",
        "colab_type": "text"
      },
      "source": [
        "<a href=\"https://colab.research.google.com/github/jarrydmartinx/basic-algorithms/blob/master/quicksort.ipynb\" target=\"_parent\"><img src=\"https://colab.research.google.com/assets/colab-badge.svg\" alt=\"Open In Colab\"/></a>"
      ]
    },
    {
      "cell_type": "markdown",
      "metadata": {
        "id": "VMYN6_5tm_aF",
        "colab_type": "text"
      },
      "source": [
        "## Quicksort\n"
      ]
    },
    {
      "cell_type": "code",
      "metadata": {
        "id": "MyMbLfXRuFez",
        "colab_type": "code",
        "colab": {}
      },
      "source": [
        "import pdb\n",
        "import numpy as np\n",
        "from random import shuffle\n",
        "from typing import List"
      ],
      "execution_count": 0,
      "outputs": []
    },
    {
      "cell_type": "code",
      "metadata": {
        "id": "Y3QtzT5suSDK",
        "colab_type": "code",
        "colab": {}
      },
      "source": [
        "def quicksort(array: List[int]) -> None:\n",
        "  \n",
        "  quicksort_helper(array, 0, len(array) - 1)\n",
        "  \n",
        "  \n",
        "def quicksort_helper(array: List[int], left_end: int, right_end: int) -> None:\n",
        "  \n",
        "  if left_end < right_end:\n",
        "    new_pivot = partition(array, left_end, right_end)\n",
        "    quicksort_helper(array, left_end, new_pivot - 1)\n",
        "    quicksort_helper(array, new_pivot + 1, right_end)\n",
        "  \n",
        "  \n",
        "def partition(array: List[int], left: int, right: int) -> int:\n",
        "  \n",
        "  pivot_value = array[right]\n",
        "  i = left - 1\n",
        "  \n",
        "  for j in range(left, right):\n",
        "    \n",
        "    if array[j] <= pivot_value:\n",
        "      i += 1\n",
        "      value = array[i]\n",
        "      array[i] = array[j]\n",
        "      array[j] = value\n",
        "      \n",
        "  array[right] = array[i + 1]\n",
        "  array[i + 1] = pivot_value\n",
        "  return i + 1"
      ],
      "execution_count": 0,
      "outputs": []
    },
    {
      "cell_type": "code",
      "metadata": {
        "id": "VKPzDQvCYrTE",
        "colab_type": "code",
        "outputId": "e1c4d6db-c053-48f5-c80b-b95d14f3b129",
        "colab": {
          "base_uri": "https://localhost:8080/",
          "height": 69
        }
      },
      "source": [
        "array_ints = np.random.randint(100, size=20)\n",
        "print(array_ints)\n",
        "quicksort(array_ints)\n",
        "array_ints"
      ],
      "execution_count": 6,
      "outputs": [
        {
          "output_type": "stream",
          "text": [
            "[44 37 23 72 84 91 67 23 18 32  0  2  8 81 53 91 94 26 10 58]\n"
          ],
          "name": "stdout"
        },
        {
          "output_type": "execute_result",
          "data": {
            "text/plain": [
              "array([ 0,  2,  8, 10, 18, 23, 23, 26, 32, 37, 44, 53, 58, 67, 72, 81, 84,\n",
              "       91, 91, 94])"
            ]
          },
          "metadata": {
            "tags": []
          },
          "execution_count": 6
        }
      ]
    },
    {
      "cell_type": "code",
      "metadata": {
        "id": "cxXzuN0-uEIo",
        "colab_type": "code",
        "colab": {}
      },
      "source": [
        ""
      ],
      "execution_count": 0,
      "outputs": []
    }
  ]
}
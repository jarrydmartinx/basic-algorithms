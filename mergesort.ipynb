{
  "nbformat": 4,
  "nbformat_minor": 0,
  "metadata": {
    "colab": {
      "name": "mergesort.ipynb",
      "provenance": [],
      "collapsed_sections": [],
      "authorship_tag": "ABX9TyPt5bJZdNz18E2nNeng4bR8",
      "include_colab_link": true
    },
    "kernelspec": {
      "name": "python3",
      "display_name": "Python 3"
    }
  },
  "cells": [
    {
      "cell_type": "markdown",
      "metadata": {
        "id": "view-in-github",
        "colab_type": "text"
      },
      "source": [
        "<a href=\"https://colab.research.google.com/github/jarrydmartinx/basic-algorithms/blob/master/mergesort.ipynb\" target=\"_parent\"><img src=\"https://colab.research.google.com/assets/colab-badge.svg\" alt=\"Open In Colab\"/></a>"
      ]
    },
    {
      "cell_type": "markdown",
      "metadata": {
        "id": "HyZDrrpNqdhp",
        "colab_type": "text"
      },
      "source": [
        "### Merge sort"
      ]
    },
    {
      "cell_type": "code",
      "metadata": {
        "id": "jV5GPsHSqTag",
        "colab_type": "code",
        "colab": {}
      },
      "source": [
        "def mergesort_helper(array: List):\n",
        "  array_size = len(array)\n",
        "  temp_array = [None]*array_size\n",
        "  mergesort(array, temp_array, 0, array_size - 1)\n",
        "\n",
        "  \n",
        "def mergesort(array: List[int], \n",
        "              temp_array: List[int],              \n",
        "              left_start: int, \n",
        "              right_end: int) -> None:\n",
        "  if left_start >= right_end:\n",
        "    return\n",
        "  middle = (right_end + left_start) // 2\n",
        "  mergesort(array, temp_array, left_start, middle)\n",
        "  mergesort(array, temp_array, middle + 1, right_end)\n",
        "  \n",
        "  merge_halves(array, temp_array, left_start, right_end)\n",
        "\n",
        "  \n",
        "def merge_halves(array: List[int],\n",
        "                 temp_array: List[int],\n",
        "                 left_start: int,\n",
        "                 right_end: int) -> None:\n",
        "  \n",
        "  left_end = (right_end + left_start) // 2\n",
        "  right_start = left_end + 1\n",
        "\n",
        "  # Indexes of the elements to compare\n",
        "  left_index = left_start\n",
        "  right_index = right_start\n",
        "  temp_index = left_start\n",
        "  \n",
        "  # Walk over the left and right subarrays, comparing elements\n",
        "  # and storing them in sorted order in a temporary array\n",
        "  while (left_index <= left_end and right_index <= right_end):\n",
        "\n",
        "    if array[left_index] <= array[right_index]:\n",
        "      temp_array[temp_index] = array[left_index]\n",
        "      left_index += 1\n",
        "    else:\n",
        "      temp_array[temp_index] = array[right_index]\n",
        "      right_index +=1\n",
        "    temp_index += 1\n",
        "\n",
        "    if right_index > right_end:\n",
        "      temp_array[temp_index:right_end + 1] = array[left_index:left_end + 1]\n",
        "    elif left_index > left_end:\n",
        "      temp_array[temp_index:right_end + 1] = array[right_index:right_end + 1]\n",
        "  \n",
        "  array[left_start:right_end + 1] = temp_array[left_start:right_end + 1]\n",
        "  \n",
        "  "
      ],
      "execution_count": 0,
      "outputs": []
    },
    {
      "cell_type": "code",
      "metadata": {
        "id": "fjperSAw0iBT",
        "colab_type": "code",
        "colab": {}
      },
      "source": [
        "array_ints = [55,22,67,907,33262,53432,2837,\n",
        "              3455,4463,73,333,447,8,0,2332,6,4,6,7,9,54,323,35378]"
      ],
      "execution_count": 0,
      "outputs": []
    },
    {
      "cell_type": "code",
      "metadata": {
        "id": "tLmkdnRTuNWF",
        "colab_type": "code",
        "outputId": "9f794168-821c-4514-d18b-58c55c375d8b",
        "colab": {
          "base_uri": "https://localhost:8080/",
          "height": 54
        }
      },
      "source": [
        "mergesort_helper(array_ints)\n",
        "print(array_ints)"
      ],
      "execution_count": 0,
      "outputs": [
        {
          "output_type": "stream",
          "text": [
            "[0, 4, 6, 6, 7, 8, 9, 22, 54, 55, 67, 73, 323, 333, 447, 907, 2332, 2837, 3455, 4463, 33262, 35378, 53432]\n"
          ],
          "name": "stdout"
        }
      ]
    },
    {
      "cell_type": "markdown",
      "metadata": {
        "id": "_jm7Bhcev2o4",
        "colab_type": "text"
      },
      "source": [
        "### Playground"
      ]
    },
    {
      "cell_type": "code",
      "metadata": {
        "id": "4xWXFudgv4yS",
        "colab_type": "code",
        "colab": {
          "base_uri": "https://localhost:8080/",
          "height": 132
        },
        "outputId": "bcf2ffe0-b4b3-443c-c03b-9af953c11095"
      },
      "source": [
        "def merge_sort(array, left_start, right_end):\n",
        "  \n",
        "  if left_start >= right_end:\n",
        "    return\n",
        "  \n",
        "  middle = len(array) // 2\n",
        "  \n",
        "  left_array = array[left_start:middle + 1]\n",
        "  right_array = array[middle + 1, right_end]\n",
        "  \n",
        "  merge_sort(left_array)\n",
        "  merge_sort(right_array)\n",
        "  \n",
        "  merge_subarrays(left_array, right_array)\n",
        "\n",
        "def merge_subarrays(left_array, right_array) -> List[int]:\n",
        "    "
      ],
      "execution_count": 1,
      "outputs": [
        {
          "output_type": "error",
          "ename": "SyntaxError",
          "evalue": "ignored",
          "traceback": [
            "\u001b[0;36m  File \u001b[0;32m\"<ipython-input-1-93431d9e52ee>\"\u001b[0;36m, line \u001b[0;32m17\u001b[0m\n\u001b[0;31m    \u001b[0m\n\u001b[0m    ^\u001b[0m\n\u001b[0;31mSyntaxError\u001b[0m\u001b[0;31m:\u001b[0m unexpected EOF while parsing\n"
          ]
        }
      ]
    },
    {
      "cell_type": "code",
      "metadata": {
        "id": "468Equppv5dj",
        "colab_type": "code",
        "colab": {}
      },
      "source": [
        ""
      ],
      "execution_count": 0,
      "outputs": []
    }
  ]
}
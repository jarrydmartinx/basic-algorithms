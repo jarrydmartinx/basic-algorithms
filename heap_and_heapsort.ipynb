{
  "nbformat": 4,
  "nbformat_minor": 0,
  "metadata": {
    "colab": {
      "name": "heap-and-heapsort.ipynb",
      "provenance": [],
      "collapsed_sections": [],
      "authorship_tag": "ABX9TyMk3PTQaph3stZDo3LaATUc",
      "include_colab_link": true
    },
    "kernelspec": {
      "name": "python3",
      "display_name": "Python 3"
    }
  },
  "cells": [
    {
      "cell_type": "markdown",
      "metadata": {
        "id": "view-in-github",
        "colab_type": "text"
      },
      "source": [
        "<a href=\"https://colab.research.google.com/github/jarrydmartinx/basic-algorithms/blob/master/heap_and_heapsort.ipynb\" target=\"_parent\"><img src=\"https://colab.research.google.com/assets/colab-badge.svg\" alt=\"Open In Colab\"/></a>"
      ]
    },
    {
      "cell_type": "markdown",
      "metadata": {
        "id": "ioB1MK_8sFwD",
        "colab_type": "text"
      },
      "source": [
        "## Heapsort"
      ]
    },
    {
      "cell_type": "code",
      "metadata": {
        "id": "mKqe4kP2pCDD",
        "colab_type": "code",
        "colab": {}
      },
      "source": [
        "class MaxHeap:\n",
        "  \n",
        "  def __init__(self, array: List[int]) -> None:\n",
        "    \n",
        "    self.array = array\n",
        "    self.length = len(array)\n",
        "    self.heap_size = self.length\n",
        "  \n",
        "    for index in range(self.length // 2, -1, -1):\n",
        "      self.max_heapify(index)\n",
        "  \n",
        "  # Computes the array index corresponding to the parent/child of the given node\n",
        "  \n",
        "  def parent(self, index: int):\n",
        "    return (index - 1) // 2\n",
        "  \n",
        "  def left(self, index: int):\n",
        "    return 2 * (index + 1) - 1\n",
        "  \n",
        "  def right(self, index: int):\n",
        "    return  2 * (index + 1)\n",
        "  \n",
        "  # Ensures that the subtree with root array[index] is a max-heap\n",
        "  def max_heapify(self, index: int) -> None:\n",
        "    \n",
        "    left = self.left(index)\n",
        "    right = self.right(index)\n",
        "    \n",
        "#     print('##############################')\n",
        "#     print('Max-heapify called, array: {}'.format(self.array))\n",
        "\n",
        "#     if  left <= self.heap_size - 1 and right <= self.heap_size - 1:\n",
        "#       print('Node: ({} : {}), Left: ({} : {}), Right({} : {})'\n",
        "#             .format(index, \n",
        "#                     self.array[index], \n",
        "#                     left, \n",
        "#                     self.array[left],\n",
        "#                     right,\n",
        "#                     self.array[right]))\n",
        "#     elif left <= self.heap_size and not right <= self.heap_size - 1:\n",
        "#       print('Node: ({} : {}), Left: ({} : {}), Right({} : {})'\n",
        "#             .format(index, \n",
        "#                     self.array[index], \n",
        "#                     left, \n",
        "#                     self.array[left],\n",
        "#                     right,\n",
        "#                     None))\n",
        "#     elif (not left <= self.heap_size) and right <= self.heap_size - 1:\n",
        "#       print('Node: ({} : {}), Left: ({} : {}), Right({} : {})'\n",
        "#             .format(index, \n",
        "#                     self.array[index], \n",
        "#                     left, \n",
        "#                     None,\n",
        "#                     right,\n",
        "#                     self.array[right]))\n",
        "#     else:\n",
        "#       print('Node: ({} : {}), Left: ({} : {}), Right({} : {})'\n",
        "#             .format(index, \n",
        "#                     self.array[index], \n",
        "#                     left, \n",
        "#                     None,\n",
        "#                     right,\n",
        "#                     None))      \n",
        "    \n",
        "\n",
        "    # Check whether self.array[index] is has a larger value than its children\n",
        "    if left <= self.heap_size - 1 and self.array[left] > self.array[index]:\n",
        "#       print('left_child wins: ({} : {}) > ({} : {})'\n",
        "#            .format(left, self.array[left], index, self.array[index]))\n",
        "      largest = left\n",
        "    else:\n",
        "      largest = index\n",
        "    if right <= self.heap_size - 1 and self.array[right] > self.array[largest]:\n",
        "#       print('right_child wins: ({} : {}) > ({} : {})'\n",
        "#            .format(right, self.array[right], largest, self.array[largest]))      \n",
        "      largest = right\n",
        "    \n",
        "    if largest != index:\n",
        "      (self.array[index], self.array[largest]) = (self.array[largest], \n",
        "                                                  self.array[index])\n",
        "      self.max_heapify(largest)\n",
        "#     print('Max heapify done,   array: {}'.format(self.array))\n",
        "#     print('#########################################')\n",
        "  \n",
        "  def maximum(self) -> int:\n",
        "    return self.array[0]\n",
        "  \n",
        "  def pop_max(self) -> int:\n",
        "    pass\n",
        "  \n",
        "  def heapsort_helper(self) -> None:\n",
        "    for index in range(self.length - 1, 0, -1):\n",
        "      (self.array[index], self.array[0]) = (self.array[0], \n",
        "                                            self.array[index])\n",
        "      self.heap_size = self.heap_size - 1\n",
        "      self.max_heapify(0)"
      ],
      "execution_count": 0,
      "outputs": []
    },
    {
      "cell_type": "code",
      "metadata": {
        "id": "U3i1CoQY0kMG",
        "colab_type": "code",
        "outputId": "a932c0c4-4ab9-406e-889b-ae814500f81f",
        "colab": {
          "base_uri": "https://localhost:8080/",
          "height": 35
        }
      },
      "source": [
        "def heapsort(array: List[int]) -> None:\n",
        "  heap = MaxHeap(array)\n",
        "  heap.heapsort_helper()  \n",
        "\n",
        "array_ints = np.random.randint(50, size=20)\n",
        "heapsort(array_ints)\n",
        "print(array_ints)"
      ],
      "execution_count": 0,
      "outputs": [
        {
          "output_type": "stream",
          "text": [
            "[ 0  1  1  6  9 12 13 19 24 29 30 30 33 35 37 45 46 47 47 49]\n"
          ],
          "name": "stdout"
        }
      ]
    },
    {
      "cell_type": "code",
      "metadata": {
        "id": "0TlsbJv6t-iz",
        "colab_type": "code",
        "colab": {}
      },
      "source": [
        ""
      ],
      "execution_count": 0,
      "outputs": []
    }
  ]
}